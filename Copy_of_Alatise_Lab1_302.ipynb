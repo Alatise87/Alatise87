{
 "nbformat": 4,
 "nbformat_minor": 0,
 "metadata": {
  "colab": {
   "name": "Copy of Alatise_Lab1_302.ipynb",
   "provenance": [],
   "collapsed_sections": [],
   "authorship_tag": "ABX9TyMUHvwuoJWzyr4bTRDSer20",
   "include_colab_link": true
  },
  "kernelspec": {
   "name": "python3",
   "display_name": "Python 3"
  },
  "language_info": {
   "name": "python"
  }
 },
 "cells": [
  {
   "cell_type": "markdown",
   "metadata": {
    "id": "view-in-github",
    "colab_type": "text",
    "pycharm": {
     "name": "#%% md\n"
    }
   },
   "source": [
    "<a href=\"https://colab.research.google.com/github/Alatise87/Alatise87/blob/main/Copy_of_Alatise_Lab1_302.ipynb\" target=\"_parent\"><img src=\"https://colab.research.google.com/assets/colab-badge.svg\" alt=\"Open In Colab\"/></a>"
   ]
  },
  {
   "cell_type": "markdown",
   "metadata": {
    "id": "mJ3fNwR0h5NM",
    "pycharm": {
     "name": "#%% md\n"
    }
   },
   "source": [
    "Lab 1\n",
    "Python Programing - IDCE 302"
   ]
  },
  {
   "cell_type": "code",
   "metadata": {
    "id": "H3M4yELuiGvB",
    "pycharm": {
     "name": "#%%\n"
    }
   },
   "source": [
    "#Course: IDCE 302\n",
    "#Semester: FALL 2021\n",
    "#Student name: Ismail ALATISE\n",
    "#Assignment:LAB 1\n",
    "#Time required: 1 hour 30mins\n",
    "#Python version: Python 3 on Google Colab"
   ],
   "execution_count": null,
   "outputs": []
  },
  {
   "cell_type": "code",
   "metadata": {
    "colab": {
     "base_uri": "https://localhost:8080/"
    },
    "id": "gOoZt-nPiqFN",
    "outputId": "5f1f2f39-b548-4b55-ace6-253111838eb5",
    "pycharm": {
     "name": "#%%\n"
    }
   },
   "source": [
    "#Question 1\n",
    "a = \"I\"\n",
    "b = \"plan\"\n",
    "c = \"to\"\n",
    "d = \"think\"\n",
    "e = \"like\"\n",
    "f = \"a\"\n",
    "g = \"computer\"\n",
    "h = \"scientist.\"\n",
    "print(a, b, c, d, e, f, g, h,)"
   ],
   "execution_count": null,
   "outputs": [
    {
     "output_type": "stream",
     "text": [
      "I plan to think like a computer scientist.\n"
     ],
     "name": "stdout"
    }
   ]
  },
  {
   "cell_type": "code",
   "metadata": {
    "id": "M_wPuJawkIzX",
    "pycharm": {
     "name": "#%%\n"
    }
   },
   "source": [
    "#Question 2\n",
    "#Answer: I can use the print function twice as seen below\n",
    "a = \"I\"\n",
    "b = \"plan\"\n",
    "c = \"to\"\n",
    "d = \"think\"\n",
    "e = \"like\"\n",
    "f = \"a\"\n",
    "g = \"computer\"\n",
    "h = \"scientist.\"\n",
    "print(a, b, c, d, e, f, g, h,)\n",
    "print(a, b, c, d, e, f, g, h,)\n",
    "\n",
    "#Alternatively, i can also print(a,b,c,d,e,f,g,h) with a backslash and n, \n",
    "#together with the sentence e.g. see below:\n",
    "\n",
    "a = \"I\"\n",
    "b = \"plan\"\n",
    "c = \"to\"\n",
    "d = \"think\"\n",
    "e = \"like\"\n",
    "f = \"a\"\n",
    "g = \"computer\"\n",
    "h = \"scientist.\"\n",
    "\n",
    "print(a, b, c, d, e, f, g, h,\"\\n\" + \"I plan to think like a computer scientist.\")\n",
    " "
   ],
   "execution_count": null,
   "outputs": []
  },
  {
   "cell_type": "code",
   "metadata": {
    "id": "4Mp0BQphmjM6",
    "pycharm": {
     "name": "#%%\n"
    }
   },
   "source": [
    "#Question 3\n",
    "\n",
    "a= 6 * (1 - 2)\n",
    "print(a)\n"
   ],
   "execution_count": null,
   "outputs": []
  },
  {
   "cell_type": "code",
   "metadata": {
    "id": "eyYpDPwdnHbh",
    "pycharm": {
     "name": "#%%\n"
    }
   },
   "source": [
    "#Question 4\n",
    "a= #6 * (1 - 2)\n",
    "print(a)\n",
    "\n",
    "#Answer: \n",
    "''''when i run the code, it shows the foillowing:\n",
    "File \"<ipython-input-25-857d9a1847c9>\", line 2\n",
    "    a= #6 * (1 - 2)\n",
    "                   ^\n",
    "SyntaxError: invalid syntax'''"
   ],
   "execution_count": null,
   "outputs": []
  },
  {
   "cell_type": "code",
   "metadata": {
    "id": "kQ1FSAfrntwT",
    "pycharm": {
     "name": "#%%\n"
    }
   },
   "source": [
    "#Question 5\n",
    "\n",
    "bruce = 6\n",
    "print (bruce + 4)"
   ],
   "execution_count": null,
   "outputs": []
  },
  {
   "cell_type": "code",
   "metadata": {
    "id": "JLkOCwGzoI96",
    "colab": {
     "base_uri": "https://localhost:8080/"
    },
    "outputId": "c484ac75-8fb8-4881-b970-2eeba77af6eb",
    "pycharm": {
     "name": "#%%\n"
    }
   },
   "source": [
    "#Question 6\n",
    "\n",
    "P = 10000\n",
    "n = 12\n",
    "r = 0.08\n",
    "t = int(input(\"Enter the value for time 't': \"))\n",
    "A = P * ((1 + r/n)**(n*t))\n",
    "print(\"The final amount is\",  A)\n",
    "\n",
    " "
   ],
   "execution_count": null,
   "outputs": [
    {
     "output_type": "stream",
     "name": "stdout",
     "text": [
      "Enter the value for 't': 2\n",
      "The final amount is 11728.879317453097\n"
     ]
    }
   ]
  },
  {
   "cell_type": "code",
   "metadata": {
    "id": "FviO-yA4o0KD",
    "pycharm": {
     "name": "#%%\n"
    }
   },
   "source": [
    "#Question 7\n",
    "\n",
    "a = 4%5\n",
    "print (a)\n",
    "\n",
    "#Answer\n",
    "#The number four is obtained in python using \"modulus\" operator (%).\n",
    "#The modulus operator works on integers (and integer expressions) \n",
    "#and gives the remainder when the first number is divided by the second. \n"
   ],
   "execution_count": null,
   "outputs": []
  },
  {
   "cell_type": "code",
   "metadata": {
    "id": "sVasNSQlp751",
    "pycharm": {
     "name": "#%%\n"
    }
   },
   "source": [
    "#Question 8\n",
    "\n",
    "#Answer (Part A): We can count on Three (3) slices for breakfast the morning \n",
    "#after serving one pie as dessert for a dinner party of seven \n",
    "\n",
    "#Answer:Part B\n",
    "\n",
    "people_at_party = int(input (\"Enter the number of people: \"))\n",
    "number_of_pie_to_buy = people_at_party//10 + 1\n",
    "number_of_left_over_slice = 10-people_at_party % 10\n",
    "print(\"The number of pie to buy is\", number_of_pie_to_buy )\n",
    "print(\"The number of left over slice is\", number_of_left_over_slice)\n",
    "\n",
    "\n",
    "\n",
    "\n"
   ],
   "execution_count": null,
   "outputs": []
  },
  {
   "cell_type": "code",
   "metadata": {
    "id": "SIvHz9fvuu_3",
    "pycharm": {
     "name": "#%%\n"
    }
   },
   "source": [
    "#Question 9\n",
    "\n",
    "pi = 3.14\n",
    "radius = int (input(\"Enter a value for radius (r): \"))\n",
    "Area = pi*radius**2\n",
    "print (\"The Area is\", Area)"
   ],
   "execution_count": null,
   "outputs": []
  }
 ]
}